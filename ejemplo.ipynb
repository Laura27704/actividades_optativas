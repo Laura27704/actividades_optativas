{
 "cells": [
  {
   "cell_type": "markdown",
   "metadata": {},
   "source": [
    "# Mi primer Notebook!"
   ]
  },
  {
   "cell_type": "markdown",
   "metadata": {},
   "source": [
    "2do C. Rodríguez Bocanegra, Laura"
   ]
  },
  {
   "cell_type": "code",
   "execution_count": 8,
   "metadata": {},
   "outputs": [
    {
     "name": "stdout",
     "output_type": "stream",
     "text": [
      "Hola Mundo\n"
     ]
    }
   ],
   "source": [
    "print(\"Hola Mundo\")"
   ]
  },
  {
   "cell_type": "markdown",
   "metadata": {},
   "source": [
    "## Mis primeros descriptivos con Pandas"
   ]
  },
  {
   "cell_type": "markdown",
   "metadata": {},
   "source": [
    "Importa Pandas, una librería para análisis y manipulación de datos estructurados como tablas\n"
   ]
  },
  {
   "cell_type": "code",
   "execution_count": 4,
   "metadata": {},
   "outputs": [],
   "source": [
    "import pandas as pd  \n"
   ]
  },
  {
   "cell_type": "markdown",
   "metadata": {},
   "source": [
    "En este código, se crea un diccionario llamado `datos` que contiene dos claves: `'edad'` y `'peso'`, cada una asociada con una lista de valores. Este diccionario representa datos estructurados, donde `'edad'` contiene una lista de edades y `'peso'` contiene una lista de pesos correspondientes. Luego, se utiliza la función `pd.DataFrame()` de la biblioteca Pandas para convertir este diccionario en un DataFrame. Un DataFrame es una estructura de datos bidimensional (similar a una tabla en Excel) que facilita el análisis, manipulación y visualización de los datos de manera eficiente."
   ]
  },
  {
   "cell_type": "code",
   "execution_count": 5,
   "metadata": {},
   "outputs": [],
   "source": [
    "datos = {  # Crea un diccionario con claves 'edad' y 'peso', cuyos valores son listas.\n",
    "    'edad': [8, 9, 10, 11, 12],  # Lista de edades.\n",
    "    'peso': [30, 32, 35, 37, 40]  # Lista de pesos.\n",
    "}\n",
    "df = pd.DataFrame(datos)  # Convierte el diccionario en un DataFrame, una tabla estructurada de Pandas."
   ]
  },
  {
   "cell_type": "markdown",
   "metadata": {},
   "source": [
    "Este código calcula la media (promedio) y la desviación típica (medida de dispersión) para las columnas 'edad' y 'peso' del DataFrame df. Utiliza las funciones mean() y std() de Pandas para realizar estas operaciones. Luego, imprime los resultados, mostrando los valores calculados para la media y desviación típica de ambas variables. Esto es útil para obtener información estadística básica sobre los datos en el DataFrame."
   ]
  },
  {
   "cell_type": "code",
   "execution_count": 6,
   "metadata": {},
   "outputs": [
    {
     "name": "stdout",
     "output_type": "stream",
     "text": [
      "Media de Edad: 10.0\n",
      "Desviación Típica de Edad: 1.5811388300841898\n",
      "Media de Peso: 34.8\n",
      "Desviación Típica de Peso: 3.9623225512317903\n"
     ]
    }
   ],
   "source": [
    "media_edad = df['edad'].mean()  # Calcula la media (promedio) de la columna 'edad'.\n",
    "desviacion_tipica_edad = df['edad'].std()  # Calcula la desviación típica de la columna 'edad'.\n",
    "\n",
    "media_peso = df['peso'].mean()  # Calcula la media (promedio) de la columna 'peso'.\n",
    "desviacion_tipica_peso = df['peso'].std()  # Calcula la desviación típica de la columna 'peso'.\n",
    "\n",
    "print(\"Media de Edad:\", media_edad)  # Imprime la media de la edad.\n",
    "print(\"Desviación Típica de Edad:\", desviacion_tipica_edad)  # Imprime la desviación típica de la edad.\n",
    "print(\"Media de Peso:\", media_peso)  # Imprime la media del peso.\n",
    "print(\"Desviación Típica de Peso:\", desviacion_tipica_peso)  # Imprime la desviación típica del peso.\n"
   ]
  }
 ],
 "metadata": {
  "kernelspec": {
   "display_name": "Python 3",
   "language": "python",
   "name": "python3"
  },
  "language_info": {
   "codemirror_mode": {
    "name": "ipython",
    "version": 3
   },
   "file_extension": ".py",
   "mimetype": "text/x-python",
   "name": "python",
   "nbconvert_exporter": "python",
   "pygments_lexer": "ipython3",
   "version": "3.12.8"
  }
 },
 "nbformat": 4,
 "nbformat_minor": 2
}
